{
 "cells": [
  {
   "cell_type": "code",
   "execution_count": 14,
   "metadata": {},
   "outputs": [
    {
     "data": {
      "text/html": [
       "<style>.container {width:100% !important;}</style>"
      ],
      "text/plain": [
       "<IPython.core.display.HTML object>"
      ]
     },
     "metadata": {},
     "output_type": "display_data"
    }
   ],
   "source": [
    "import nltk, re, pprint,random\n",
    "from nltk import pos_tag, word_tokenize, NaiveBayesClassifier, classify, bigrams\n",
    "import pandas as pd\n",
    "from operator import itemgetter\n",
    "from collections import Counter\n",
    "from __future__ import division  # Python 2 users only\n",
    "\n",
    "from nltk.corpus import stopwords\n",
    "from nltk.util import ngrams\n",
    "from nltk.probability import FreqDist\n",
    "from nltk.classify import SklearnClassifier\n",
    "from nltk.tokenize import TreebankWordTokenizer\n",
    "\n",
    "from sklearn import metrics\n",
    "from sklearn.naive_bayes import MultinomialNB\n",
    "from sklearn.feature_extraction.text import CountVectorizer\n",
    "from sklearn.metrics import classification_report\n",
    "\n",
    "%config InlineBackend.figure_format = 'retina'\n",
    "%pylab inline\n",
    "from IPython.core.display import display, HTML\n",
    "display(HTML(\"<style>.container {width:100% !important;}</style>\"))"
   ]
  },
  {
   "cell_type": "markdown",
   "metadata": {},
   "source": [
    "**Deliverables\n",
    "The deliverable for this assignment is a file with the python scripts, outputs (including plots & tables where applicable) and your answers to the various questions. Do not forget to write the names of all group members. **"
   ]
  },
  {
   "cell_type": "code",
   "execution_count": 15,
   "metadata": {
    "collapsed": true
   },
   "outputs": [],
   "source": [
    "# df_data = pd.read_csv('/Users/brettscroggins/Downloads/Train_rev1.csv')\n",
    "df_data = pd.read_csv('Train_rev1.csv')\n",
    "\n",
    "#df_data = pd.read_csv('/Users/daniellediehl/Documents/MSBA/Fall_Classes/Text_Analysis/Assignment_1/Train_rev1.csv')"
   ]
  },
  {
   "cell_type": "code",
   "execution_count": 16,
   "metadata": {},
   "outputs": [
    {
     "data": {
      "text/html": [
       "<div>\n",
       "<style>\n",
       "    .dataframe thead tr:only-child th {\n",
       "        text-align: right;\n",
       "    }\n",
       "\n",
       "    .dataframe thead th {\n",
       "        text-align: left;\n",
       "    }\n",
       "\n",
       "    .dataframe tbody tr th {\n",
       "        vertical-align: top;\n",
       "    }\n",
       "</style>\n",
       "<table border=\"1\" class=\"dataframe\">\n",
       "  <thead>\n",
       "    <tr style=\"text-align: right;\">\n",
       "      <th></th>\n",
       "      <th>Id</th>\n",
       "      <th>Title</th>\n",
       "      <th>FullDescription</th>\n",
       "      <th>LocationRaw</th>\n",
       "      <th>LocationNormalized</th>\n",
       "      <th>ContractType</th>\n",
       "      <th>ContractTime</th>\n",
       "      <th>Company</th>\n",
       "      <th>Category</th>\n",
       "      <th>SalaryRaw</th>\n",
       "      <th>SalaryNormalized</th>\n",
       "      <th>SourceName</th>\n",
       "    </tr>\n",
       "  </thead>\n",
       "  <tbody>\n",
       "    <tr>\n",
       "      <th>0</th>\n",
       "      <td>12612628</td>\n",
       "      <td>Engineering Systems Analyst</td>\n",
       "      <td>Engineering Systems Analyst Dorking Surrey Sal...</td>\n",
       "      <td>Dorking, Surrey, Surrey</td>\n",
       "      <td>Dorking</td>\n",
       "      <td>NaN</td>\n",
       "      <td>permanent</td>\n",
       "      <td>Gregory Martin International</td>\n",
       "      <td>Engineering Jobs</td>\n",
       "      <td>20000 - 30000/annum 20-30K</td>\n",
       "      <td>25000</td>\n",
       "      <td>cv-library.co.uk</td>\n",
       "    </tr>\n",
       "    <tr>\n",
       "      <th>1</th>\n",
       "      <td>12612830</td>\n",
       "      <td>Stress Engineer Glasgow</td>\n",
       "      <td>Stress Engineer Glasgow Salary **** to **** We...</td>\n",
       "      <td>Glasgow, Scotland, Scotland</td>\n",
       "      <td>Glasgow</td>\n",
       "      <td>NaN</td>\n",
       "      <td>permanent</td>\n",
       "      <td>Gregory Martin International</td>\n",
       "      <td>Engineering Jobs</td>\n",
       "      <td>25000 - 35000/annum 25-35K</td>\n",
       "      <td>30000</td>\n",
       "      <td>cv-library.co.uk</td>\n",
       "    </tr>\n",
       "    <tr>\n",
       "      <th>2</th>\n",
       "      <td>12612844</td>\n",
       "      <td>Modelling and simulation analyst</td>\n",
       "      <td>Mathematical Modeller / Simulation Analyst / O...</td>\n",
       "      <td>Hampshire, South East, South East</td>\n",
       "      <td>Hampshire</td>\n",
       "      <td>NaN</td>\n",
       "      <td>permanent</td>\n",
       "      <td>Gregory Martin International</td>\n",
       "      <td>Engineering Jobs</td>\n",
       "      <td>20000 - 40000/annum 20-40K</td>\n",
       "      <td>30000</td>\n",
       "      <td>cv-library.co.uk</td>\n",
       "    </tr>\n",
       "  </tbody>\n",
       "</table>\n",
       "</div>"
      ],
      "text/plain": [
       "         Id                             Title  \\\n",
       "0  12612628       Engineering Systems Analyst   \n",
       "1  12612830           Stress Engineer Glasgow   \n",
       "2  12612844  Modelling and simulation analyst   \n",
       "\n",
       "                                     FullDescription  \\\n",
       "0  Engineering Systems Analyst Dorking Surrey Sal...   \n",
       "1  Stress Engineer Glasgow Salary **** to **** We...   \n",
       "2  Mathematical Modeller / Simulation Analyst / O...   \n",
       "\n",
       "                         LocationRaw LocationNormalized ContractType  \\\n",
       "0            Dorking, Surrey, Surrey            Dorking          NaN   \n",
       "1        Glasgow, Scotland, Scotland            Glasgow          NaN   \n",
       "2  Hampshire, South East, South East          Hampshire          NaN   \n",
       "\n",
       "  ContractTime                       Company          Category  \\\n",
       "0    permanent  Gregory Martin International  Engineering Jobs   \n",
       "1    permanent  Gregory Martin International  Engineering Jobs   \n",
       "2    permanent  Gregory Martin International  Engineering Jobs   \n",
       "\n",
       "                    SalaryRaw  SalaryNormalized        SourceName  \n",
       "0  20000 - 30000/annum 20-30K             25000  cv-library.co.uk  \n",
       "1  25000 - 35000/annum 25-35K             30000  cv-library.co.uk  \n",
       "2  20000 - 40000/annum 20-40K             30000  cv-library.co.uk  "
      ]
     },
     "execution_count": 16,
     "metadata": {},
     "output_type": "execute_result"
    }
   ],
   "source": [
    "df_data[:3]"
   ]
  },
  {
   "cell_type": "code",
   "execution_count": 17,
   "metadata": {
    "collapsed": true
   },
   "outputs": [],
   "source": [
    "import sys  \n",
    "\n",
    "reload(sys)  \n",
    "sys.setdefaultencoding('utf8')"
   ]
  },
  {
   "cell_type": "code",
   "execution_count": 18,
   "metadata": {
    "scrolled": true
   },
   "outputs": [
    {
     "data": {
      "text/plain": [
       "0    187167\n",
       "1     57601\n",
       "Name: BinarySalary, dtype: int64"
      ]
     },
     "execution_count": 18,
     "metadata": {},
     "output_type": "execute_result"
    }
   ],
   "source": [
    "top_percentile = df_data.SalaryNormalized>df_data.SalaryNormalized.quantile(.75)\n",
    "df_data['BinarySalary'] = np.where(top_percentile, 1, 0)\n",
    "b_salary = df_data['BinarySalary']\n",
    "df_data['BinarySalary'].value_counts()"
   ]
  },
  {
   "cell_type": "code",
   "execution_count": 19,
   "metadata": {
    "collapsed": true
   },
   "outputs": [],
   "source": [
    "####RCD -we probably need to take a random sample of the DF, so we can get the right salaries to match up for Part B \n",
    "\n",
    "smaller_df = df_data.sample(1000, random_state=100)\n",
    "#smaller_df.sort_values(['SalaryNormalized'],ascending = False).iloc[1].FullDescription"
   ]
  },
  {
   "cell_type": "code",
   "execution_count": 20,
   "metadata": {
    "collapsed": true
   },
   "outputs": [],
   "source": [
    "job_desc_list=smaller_df.FullDescription.values.tolist()\n",
    "job_desc_list[0] #the first job description (complete)\n",
    "words=[]\n",
    "for i in range(0,len(job_desc_list)):\n",
    "    words1=word_tokenize(job_desc_list[i])\n",
    "    words.append(words1)"
   ]
  },
  {
   "cell_type": "code",
   "execution_count": 21,
   "metadata": {
    "collapsed": true
   },
   "outputs": [],
   "source": [
    "job_words = [item for sublist in words for item in sublist]"
   ]
  },
  {
   "cell_type": "code",
   "execution_count": 22,
   "metadata": {},
   "outputs": [
    {
     "data": {
      "text/plain": [
       "271497"
      ]
     },
     "execution_count": 22,
     "metadata": {},
     "output_type": "execute_result"
    }
   ],
   "source": [
    "len(job_words)"
   ]
  },
  {
   "cell_type": "markdown",
   "metadata": {},
   "source": [
    "# Part A"
   ]
  },
  {
   "cell_type": "markdown",
   "metadata": {},
   "source": [
    "**A1. What are the top 5 parts of speech in this corpus of job descriptions? How frequently do they appear?**\n",
    "\n",
    "Hint: nltk.org is a great resource for exploring text mining with Python. There are many examples that are similar to the questions in this assignment.  "
   ]
  },
  {
   "cell_type": "code",
   "execution_count": 27,
   "metadata": {},
   "outputs": [
    {
     "data": {
      "text/plain": [
       "[('NN', 46509), ('NNP', 34237), ('IN', 26422), ('JJ', 22262), ('DT', 20495)]"
      ]
     },
     "execution_count": 27,
     "metadata": {},
     "output_type": "execute_result"
    }
   ],
   "source": [
    "tagged = nltk.pos_tag(job_words)\n",
    "counts = Counter(tag for word,tag in tagged)\n",
    "most_com_words = counts.most_common()[:5]\n",
    "print 'the most common parts of speech are '\n",
    "most_com_words\n",
    "#NN: noun, common/singular/mass"
   ]
  },
  {
   "cell_type": "markdown",
   "metadata": {},
   "source": [
    "**A2. Does this corpus support Zipf’s law? Plot the most common 100 words in the corpus against the theoretical prediction of the law. For this question, do not remove stopwords. Also do not perform stemming or lemmatization.**\n",
    "\n",
    "Hint: Check http://www.garysieling.com/blog/exploring-zipfs-law-with-python-nltk-scipy-and-matplotlib "
   ]
  },
  {
   "cell_type": "code",
   "execution_count": 22,
   "metadata": {},
   "outputs": [
    {
     "data": {
      "image/png": "[encoded data removed]",
      "text/plain": [
       "<matplotlib.figure.Figure at 0x125eff0d0>"
      ]
     },
     "metadata": {
      "image/png": {
       "height": 321,
       "width": 403
      }
     },
     "output_type": "display_data"
    },
    {
     "data": {
      "text/plain": [
       "[('and', 11076), ('to', 7712), ('the', 7269), ('of', 5936), ('a', 5863)]"
      ]
     },
     "execution_count": 22,
     "metadata": {},
     "output_type": "execute_result"
    }
   ],
   "source": [
    "job_words_no_punc = [w for w in job_words if w.isalpha()]\n",
    "freqdist = FreqDist(job_words_no_punc)\n",
    "top_100=freqdist.most_common(100)\n",
    "\n",
    "freqdist.plot(50, cumulative=False) #change this to 100 and make it look pretty\n",
    "\n",
    "\n",
    "print 'A few words occur very frequently, a medium number of word have, well, medium frequency!, and any words occur very infrequently.' \n",
    "print 'The top words and their frequecies are: ',top_100 [:5]"
   ]
  },
  {
   "cell_type": "markdown",
   "metadata": {},
   "source": [
    "#### Our graph supports Zipf's law because we have only a few words that have very high frequencies, a medium number of words with medium frequencies, and many words with low frequencies."
   ]
  },
  {
   "cell_type": "markdown",
   "metadata": {},
   "source": [
    "**A3. If we remove stopwords and lemmatize the corpus, what are the 10 most common words? What are their frequencies?**\n"
   ]
  },
  {
   "cell_type": "code",
   "execution_count": 25,
   "metadata": {},
   "outputs": [
    {
     "data": {
      "text/plain": [
       "[(u'manag', 2209),\n",
       " (u'work', 2100),\n",
       " (u'experi', 1829),\n",
       " (u'develop', 1412),\n",
       " ('the', 1355),\n",
       " (u'busi', 1256),\n",
       " ('team', 1255),\n",
       " ('role', 1237),\n",
       " ('client', 1149),\n",
       " (u'skill', 1083)]"
      ]
     },
     "execution_count": 25,
     "metadata": {},
     "output_type": "execute_result"
    }
   ],
   "source": [
    "filtered_words = [word for word in job_words if word not in stopwords.words('english')]  ##I think filtered words wasn't working before because we hadn't tokenized\n",
    "filtered_words = [w.lower() for w in filtered_words if w.isalpha()]\n",
    "#filtered_words\n",
    "porter=nltk.PorterStemmer()\n",
    "filtered_words= [porter.stem(t) for t in filtered_words] #tokens=word tokenization\n",
    "filtered_freq = FreqDist(filtered_words)\n",
    "filtered_freq.most_common(10)\n",
    "##'The' will be removed once we get our 'words' list into lowercase"
   ]
  },
  {
   "cell_type": "markdown",
   "metadata": {},
   "source": [
    "# Part B (predict salary from job description)"
   ]
  },
  {
   "cell_type": "markdown",
   "metadata": {},
   "source": [
    "In this section, you will create classification models to predict high (75th percentile and above) or low (below 75th percentile) salary from the text contained in the job descriptions. Ignore all other data provided on kaggle.com that is not text (except the actual salary data, which you need to create the binary output of high/low salary).    \n",
    "Get the training data on kaggle.com (train_rev1) (do not use the validation data provided on kaggle.com). Use the Naïve Bayes classifier to classify job descriptions into high and low salary categories (we will discuss the theory of Naïve Bayes later in this course). There are two versions of Naïve Bayes – binomial and multinomial; for the moment, let’s not bother about the theoretical underpinnings! You can use either one for this assignment. For all models below, show the confusion matrix.\n",
    "Hint: For part B, check out   http://www.nltk.org/book/ch06.html (esp 1.3) for illustrations.\n",
    "\n",
    "Also look at http://nbviewer.ipython.org/gist/rjweiss/7158866 (you may have to download additional Python libraries than the ones I have mentioned before) "
   ]
  },
  {
   "cell_type": "markdown",
   "metadata": {},
   "source": [
    "**B1. Create a classification model with all words and the bag-of-words approach. How accurate is the model (show the confusion matrix)? **"
   ]
  },
  {
   "cell_type": "code",
   "execution_count": 28,
   "metadata": {},
   "outputs": [],
   "source": [
    "trainset_size = int(round(len(job_desc_list)*0.75))\n",
    "X_train = np.array([''.join(el) for el in job_desc_list[:trainset_size]])\n",
    "y_train = np.array([el for el in smaller_df.BinarySalary[:trainset_size]])\n",
    "\n",
    "X_test = np.array([''.join(el) for el in job_desc_list[trainset_size:]])\n",
    "y_test = np.array([el for el in smaller_df.BinarySalary[trainset_size:]])\n"
   ]
  },
  {
   "cell_type": "code",
   "execution_count": 29,
   "metadata": {
    "collapsed": true
   },
   "outputs": [],
   "source": [
    "vectorizer = CountVectorizer(analyzer = \"word\", tokenizer = None, preprocessor = None, stop_words = None, max_features = 5000) "
   ]
  },
  {
   "cell_type": "code",
   "execution_count": 30,
   "metadata": {},
   "outputs": [],
   "source": [
    "X_train_vec = vectorizer.fit_transform(X_train)\n",
    "X_test_vec = vectorizer.transform(X_test)\n",
    "\n",
    "nb_classifier = MultinomialNB().fit(X_train_vec, y_train)\n",
    "y_nb_predicted = nb_classifier.predict(X_test_vec)\n"
   ]
  },
  {
   "cell_type": "code",
   "execution_count": 31,
   "metadata": {},
   "outputs": [
    {
     "data": {
      "text/plain": [
       "'0.816'"
      ]
     },
     "execution_count": 31,
     "metadata": {},
     "output_type": "execute_result"
    }
   ],
   "source": [
    "str(metrics.accuracy_score(y_test, y_nb_predicted))"
   ]
  },
  {
   "cell_type": "code",
   "execution_count": 32,
   "metadata": {},
   "outputs": [
    {
     "data": {
      "text/plain": [
       "array([[168,  27],\n",
       "       [ 19,  36]])"
      ]
     },
     "execution_count": 32,
     "metadata": {},
     "output_type": "execute_result"
    }
   ],
   "source": [
    "metrics.confusion_matrix(y_test, y_nb_predicted)"
   ]
  },
  {
   "cell_type": "markdown",
   "metadata": {},
   "source": [
    "**B2. Speculate before running the following analysis whether lemmatization would help improve the accuracy of classification. Now create a classification model after lemmatization. Did the classification accuracy increase relative to B1? Comment on your speculation versus the actual results you obtained.**\n"
   ]
  },
  {
   "cell_type": "markdown",
   "metadata": {
    "collapsed": true
   },
   "source": [
    "Reed: \n",
    "    We believe that lemmatization will help improve accuracy of the classification, but since the accuracy is already at 81.6%, not all that much. \n",
    "    Lemmatization decreases the number of words in the corpus. \n",
    "    Combining certain words increases the numerator and decreases the denomerator for the likelihood score. \n",
    "    Lemmatization has the greatest impact on conjugated verbs (rowing, rowed, rows) and possessive nouns (salary, salaries). \n",
    "    "
   ]
  },
  {
   "cell_type": "code",
   "execution_count": 34,
   "metadata": {
    "collapsed": true
   },
   "outputs": [],
   "source": [
    "vectorizer = CountVectorizer(analyzer = \"word\", tokenizer = TreebankWordTokenizer().tokenize, preprocessor = None, stop_words = None, max_features = 5000) "
   ]
  },
  {
   "cell_type": "code",
   "execution_count": 36,
   "metadata": {},
   "outputs": [
    {
     "data": {
      "text/plain": [
       "'0.828'"
      ]
     },
     "execution_count": 36,
     "metadata": {},
     "output_type": "execute_result"
    }
   ],
   "source": [
    "X_train_vec_tok = vectorizer.fit_transform(X_train)\n",
    "X_test_vec_tok = vectorizer.transform(X_test)\n",
    "\n",
    "nb_classifier_tok = MultinomialNB().fit(X_train_vec_tok, y_train)\n",
    "y_nb_predicted_tok = nb_classifier_tok.predict(X_test_vec_tok)\n",
    "\n",
    "str(metrics.accuracy_score(y_test, y_nb_predicted_tok))"
   ]
  },
  {
   "cell_type": "code",
   "execution_count": 37,
   "metadata": {},
   "outputs": [
    {
     "data": {
      "text/plain": [
       "array([[169,  26],\n",
       "       [ 17,  38]])"
      ]
     },
     "execution_count": 37,
     "metadata": {},
     "output_type": "execute_result"
    }
   ],
   "source": [
    "metrics.confusion_matrix(y_test, y_nb_predicted_tok)"
   ]
  },
  {
   "cell_type": "markdown",
   "metadata": {},
   "source": [
    "**B3. Now speculate whether stopwords removal from the original data would help increase the accuracy of the model. Take out the stopwords (but do not lemmatize), build a classification model and check the accuracy, and compare with that in B1 & B2.   \n",
    "Also show the top 10 words (excluding stopwords) that are most indicative of (i) high salary, and (ii) low salary.** "
   ]
  },
  {
   "cell_type": "code",
   "execution_count": 38,
   "metadata": {
    "collapsed": true
   },
   "outputs": [],
   "source": [
    "vectorizer = CountVectorizer(analyzer = \"word\", tokenizer=None, preprocessor = None, stop_words = 'english', max_features = 5000)"
   ]
  },
  {
   "cell_type": "code",
   "execution_count": 39,
   "metadata": {},
   "outputs": [
    {
     "data": {
      "text/plain": [
       "'0.816'"
      ]
     },
     "execution_count": 39,
     "metadata": {},
     "output_type": "execute_result"
    }
   ],
   "source": [
    "X_train_vec_stop = vectorizer.fit_transform(X_train)\n",
    "X_test_vec_stop = vectorizer.transform(X_test)\n",
    "\n",
    "nb_classifier_stop = MultinomialNB().fit(X_train_vec_stop, y_train)\n",
    "y_nb_predicted_stop = nb_classifier_stop.predict(X_test_vec_stop)\n",
    "str(metrics.accuracy_score(y_test, y_nb_predicted_stop))"
   ]
  },
  {
   "cell_type": "code",
   "execution_count": 40,
   "metadata": {},
   "outputs": [
    {
     "data": {
      "text/plain": [
       "array([[168,  27],\n",
       "       [ 19,  36]])"
      ]
     },
     "execution_count": 40,
     "metadata": {},
     "output_type": "execute_result"
    }
   ],
   "source": [
    "metrics.confusion_matrix(y_test, y_nb_predicted_stop)"
   ]
  },
  {
   "cell_type": "code",
   "execution_count": 41,
   "metadata": {},
   "outputs": [
    {
     "data": {
      "text/plain": [
       "array([u'working', u'client', u'development', u'work', u'skills', u'team',\n",
       "       u'role', u'management', u'business', u'experience'],\n",
       "      dtype='<U28')"
      ]
     },
     "execution_count": 41,
     "metadata": {},
     "output_type": "execute_result"
    }
   ],
   "source": [
    "N = 10\n",
    "vocabulary = np.array([t for t, i in sorted(vectorizer.vocabulary_.iteritems(), key=itemgetter(1))])\n",
    "topN = np.argsort(nb_classifier_stop.coef_[0])[-N:]\n",
    "vocabulary[topN]"
   ]
  },
  {
   "cell_type": "code",
   "execution_count": 45,
   "metadata": {},
   "outputs": [
    {
     "data": {
      "text/plain": [
       "token\n",
       "bid           68.269841\n",
       "msif          56.396825\n",
       "middleware    38.587302\n",
       "android       38.587302\n",
       "api           38.587302\n",
       "ca            35.619048\n",
       "middot        35.619048\n",
       "quant         32.650794\n",
       "medicare      29.682540\n",
       "architect     29.682540\n",
       "Name: High_Salary_ratio, dtype: float64"
      ]
     },
     "execution_count": 45,
     "metadata": {},
     "output_type": "execute_result"
    }
   ],
   "source": [
    "# store the vocabulary of X_train\n",
    "X_train_tokens = vectorizer.get_feature_names()\n",
    "\n",
    "# number of times each token appears across all zero (low salary) class\n",
    "zero_token_count = nb_classifier_stop.feature_count_[0, :]\n",
    "\n",
    "# number of times each token appears across all one (high salary) class\n",
    "one_token_count = nb_classifier_stop.feature_count_[1, :]\n",
    "\n",
    "# # create a DataFrame of tokens with their separate high salary and low salary counts\n",
    "tokens = pd.DataFrame({'token':X_train_tokens, 'Low_Salary':zero_token_count, 'High_Salary':one_token_count}).set_index('token')\n",
    "\n",
    "# add 1 to the high salary and low salary counts to avoid dividing by 0\n",
    "tokens['Low_Salary'] = tokens.Low_Salary + 1\n",
    "tokens['High_Salary'] = tokens.High_Salary + 1\n",
    "\n",
    "# convert the zero and one counts into frequencies\n",
    "tokens['Low_Salary'] = tokens.Low_Salary / nb_classifier_stop.class_count_[0]\n",
    "tokens['High_Salary'] = tokens.High_Salary / nb_classifier_stop.class_count_[1]\n",
    "\n",
    "# calculate the ratio of High-to-Low for each token\n",
    "tokens['High_Salary_ratio'] = tokens.High_Salary / tokens.Low_Salary\n",
    "\n",
    "# examine the DataFrame sorted by High_Salary_ratio\n",
    "tokens.sort_values('High_Salary_ratio', ascending=False)\n",
    "\n",
    "high_sal_top_10=tokens['High_Salary_ratio'].sort_values(ascending=False)[:10]\n",
    "high_sal_top_10"
   ]
  },
  {
   "cell_type": "code",
   "execution_count": 46,
   "metadata": {},
   "outputs": [
    {
     "data": {
      "text/plain": [
       "token\n",
       "chef          35.374332\n",
       "restaurant    19.877005\n",
       "partie        15.834225\n",
       "kitchen       14.486631\n",
       "technician    13.812834\n",
       "charity       12.128342\n",
       "shifts        11.791444\n",
       "weekends      11.117647\n",
       "shop           9.938503\n",
       "pastry         9.096257\n",
       "Name: Low_Salary_ratio, dtype: float64"
      ]
     },
     "execution_count": 46,
     "metadata": {},
     "output_type": "execute_result"
    }
   ],
   "source": [
    "# calculate the ratio of Low-to-High for each token\n",
    "tokens['Low_Salary_ratio'] = tokens.Low_Salary / tokens.High_Salary\n",
    "\n",
    "# examine the DataFrame sorted by Low_Salary_ratio\n",
    "tokens.sort_values('Low_Salary_ratio', ascending=False)\n",
    "\n",
    "low_sal_top_10=tokens['Low_Salary_ratio'].sort_values(ascending=False)[:10]\n",
    "low_sal_top_10"
   ]
  },
  {
   "cell_type": "code",
   "execution_count": 96,
   "metadata": {},
   "outputs": [
    {
     "data": {
      "text/plain": [
       "array([4949,  867, 1348, 4943, 4207, 4503, 4000, 2658,  664, 1703])"
      ]
     },
     "execution_count": 96,
     "metadata": {},
     "output_type": "execute_result"
    }
   ],
   "source": [
    "# #What are the top N most predictive features per class?\n",
    "# N = 10\n",
    "\n",
    "# vocabulary = np.array([t for t, i in sorted(vectorizer.vocabulary_.iteritems(), key=itemgetter(1))])\n",
    "\n",
    "# topN = np.argsort(nb_classifier_stop.coef_[0])[-N:]\n",
    "\n",
    "# topN"
   ]
  },
  {
   "cell_type": "markdown",
   "metadata": {},
   "source": [
    "**B4.  Use the job descriptions without lemmatiztion and stopword removal. Add parts-of-speech bigrams to the bag-of-words, and run a new classification model. Does the accuracy increase over the results in B1?  **"
   ]
  },
  {
   "cell_type": "code",
   "execution_count": 64,
   "metadata": {
    "collapsed": true
   },
   "outputs": [],
   "source": [
    "vectorizer = CountVectorizer(analyzer = \"word\", tokenizer = None, preprocessor = None, stop_words = None, ngram_range=(1, 2), max_features=5000)"
   ]
  },
  {
   "cell_type": "code",
   "execution_count": 65,
   "metadata": {},
   "outputs": [
    {
     "data": {
      "text/plain": [
       "'0.812'"
      ]
     },
     "execution_count": 65,
     "metadata": {},
     "output_type": "execute_result"
    }
   ],
   "source": [
    "X_train_vec_bi = vectorizer.fit_transform(X_train)\n",
    "X_test_vec_bi = vectorizer.transform(X_test)\n",
    "\n",
    "nb_classifier_bi = MultinomialNB().fit(X_train_vec_bi, y_train)\n",
    "y_nb_predicted_bi = nb_classifier_bi.predict(X_test_vec_bi)\n",
    "\n",
    "str(metrics.accuracy_score(y_test, y_nb_predicted_bi))"
   ]
  },
  {
   "cell_type": "code",
   "execution_count": 67,
   "metadata": {},
   "outputs": [
    {
     "data": {
      "text/plain": [
       "array([[168,  27],\n",
       "       [ 20,  35]])"
      ]
     },
     "execution_count": 67,
     "metadata": {},
     "output_type": "execute_result"
    }
   ],
   "source": [
    "metrics.confusion_matrix(y_test, y_nb_predicted_bi)"
   ]
  }
 ],
 "metadata": {
  "kernelspec": {
   "display_name": "Python 2",
   "language": "python",
   "name": "python2"
  },
  "language_info": {
   "codemirror_mode": {
    "name": "ipython",
    "version": 2
   },
   "file_extension": ".py",
   "mimetype": "text/x-python",
   "name": "python",
   "nbconvert_exporter": "python",
   "pygments_lexer": "ipython2",
   "version": "2.7.13"
  }
 },
 "nbformat": 4,
 "nbformat_minor": 2
}
